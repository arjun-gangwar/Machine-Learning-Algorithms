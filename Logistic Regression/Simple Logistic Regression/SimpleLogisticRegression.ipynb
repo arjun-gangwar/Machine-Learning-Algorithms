{
 "cells": [
  {
   "cell_type": "code",
   "execution_count": 47,
   "metadata": {},
   "outputs": [],
   "source": [
    "import numpy as np\n",
    "import pandas as pd\n",
    "import matplotlib.pyplot as plt\n",
    "%matplotlib inline"
   ]
  },
  {
   "cell_type": "code",
   "execution_count": 48,
   "metadata": {},
   "outputs": [],
   "source": [
    "data = pd.read_csv('data/train.txt', header=None)"
   ]
  },
  {
   "cell_type": "code",
   "execution_count": 49,
   "metadata": {},
   "outputs": [
    {
     "name": "stdout",
     "output_type": "stream",
     "text": [
      "shape: (100, 2)\n",
      "<class 'pandas.core.frame.DataFrame'>\n"
     ]
    }
   ],
   "source": [
    "X = data.iloc[:,:-1]\n",
    "m = X.shape[0]\n",
    "print(\"shape:\", X.shape)\n",
    "print(type(X))"
   ]
  },
  {
   "cell_type": "code",
   "execution_count": 50,
   "metadata": {},
   "outputs": [
    {
     "data": {
      "text/plain": [
       "(100,)"
      ]
     },
     "execution_count": 50,
     "metadata": {},
     "output_type": "execute_result"
    }
   ],
   "source": [
    "y = data.iloc[:,2]\n",
    "y.shape"
   ]
  },
  {
   "cell_type": "code",
   "execution_count": 51,
   "metadata": {},
   "outputs": [
    {
     "data": {
      "image/png": "[encoded data removed]",
      "text/plain": [
       "<Figure size 432x288 with 1 Axes>"
      ]
     },
     "metadata": {
      "needs_background": "light"
     },
     "output_type": "display_data"
    }
   ],
   "source": [
    "mask = y == 1\n",
    "adm = plt.scatter(X[mask][0].values, X[mask][1].values)\n",
    "not_adm = plt.scatter(X[~mask][0].values, X[~mask][1].values)\n",
    "plt.xlabel('Exam 1 score')\n",
    "plt.ylabel('Exam 2 score')\n",
    "plt.legend((adm, not_adm), ('Admitted', 'Not admitted'))\n",
    "plt.show()"
   ]
  },
  {
   "cell_type": "code",
   "execution_count": 52,
   "metadata": {},
   "outputs": [
    {
     "data": {
      "text/plain": [
       "array([60.18259939, 79.03273605, 61.10666454, 75.02474557, 76.0987867 ,\n",
       "       84.43281996, 82.30705337, 69.36458876, 53.97105215, 69.07014406,\n",
       "       70.66150955, 76.97878373, 89.67677575, 77.92409145, 62.27101367,\n",
       "       80.19018075, 61.37928945, 85.40451939, 52.04540477, 64.17698887,\n",
       "       83.90239366, 94.44336777, 77.19303493, 97.77159928, 62.0730638 ,\n",
       "       91.5649745 , 79.94481794, 99.27252693, 90.54671411, 97.64563396,\n",
       "       74.24869137, 71.79646206, 75.39561147, 40.45755098, 80.27957401,\n",
       "       66.74671857, 64.03932042, 72.34649423, 60.45788574, 58.84095622,\n",
       "       99.8278578 , 47.26426911, 50.4581598 , 88.91389642, 94.83450672,\n",
       "       67.31925747, 57.23870632, 80.366756  , 68.46852179, 75.47770201,\n",
       "       78.63542435, 94.09433113, 90.44855097, 74.49269242, 89.84580671,\n",
       "       83.48916274, 42.26170081, 99.31500881, 55.34001756, 74.775893  ])"
      ]
     },
     "execution_count": 52,
     "metadata": {},
     "output_type": "execute_result"
    }
   ],
   "source": [
    "X[mask][0].values"
   ]
  },
  {
   "cell_type": "code",
   "execution_count": 53,
   "metadata": {},
   "outputs": [
    {
     "name": "stdout",
     "output_type": "stream",
     "text": [
      "(100, 3)\n"
     ]
    }
   ],
   "source": [
    "X = np.hstack((np.ones((m,1)),X))\n",
    "n = X.shape[1]\n",
    "print(X.shape)\n",
    "y = pd.DataFrame(y)\n",
    "assert(X.shape == (100,3))"
   ]
  },
  {
   "cell_type": "code",
   "execution_count": 55,
   "metadata": {},
   "outputs": [
    {
     "data": {
      "text/plain": [
       "(100, 1)"
      ]
     },
     "execution_count": 55,
     "metadata": {},
     "output_type": "execute_result"
    }
   ],
   "source": [
    "y.shape"
   ]
  },
  {
   "cell_type": "markdown",
   "metadata": {},
   "source": [
    "# Functions"
   ]
  },
  {
   "cell_type": "code",
   "execution_count": 56,
   "metadata": {},
   "outputs": [],
   "source": [
    "def noramlise(X):\n",
    "    mean = np.mean(X, axis=0)\n",
    "    stdd = np.std(X, axis=0)\n",
    "    X = (X - mean) / stdd\n",
    "    return X"
   ]
  },
  {
   "cell_type": "code",
   "execution_count": 57,
   "metadata": {},
   "outputs": [],
   "source": [
    "def sigmoid(z):\n",
    "    return 1 / (1 + np.exp(z))"
   ]
  },
  {
   "cell_type": "code",
   "execution_count": 58,
   "metadata": {},
   "outputs": [],
   "source": [
    "def computeCost(theta, X, y):\n",
    "    m = X.shape[0]\n",
    "    z = np.dot(X,theta)\n",
    "    h = sigmoid(z)\n",
    "    J = np.sum(y * np.log(h) + (1-y) * np.log(1-h), axis=0)\n",
    "    J = J / -m\n",
    "    return J"
   ]
  },
  {
   "cell_type": "code",
   "execution_count": 59,
   "metadata": {},
   "outputs": [],
   "source": [
    "def gradientDescent(theta, X, y):\n",
    "    m = X.shape[0]\n",
    "    n = X.shape[1]\n",
    "    h = sigmoid(np.dot(X,theta))\n",
    "    d = h - y\n",
    "    dt = np.dot(X.T,d)\n",
    "    dt = dt / m\n",
    "    return dt"
   ]
  },
  {
   "cell_type": "markdown",
   "metadata": {},
   "source": [
    "# Training"
   ]
  },
  {
   "cell_type": "code",
   "execution_count": 9,
   "metadata": {},
   "outputs": [
    {
     "name": "stdout",
     "output_type": "stream",
     "text": [
      "initial theta:\n",
      " [[0.]\n",
      " [0.]\n",
      " [0.]]\n",
      "initial theta shape: (3, 1)\n"
     ]
    }
   ],
   "source": [
    "theta = np.zeros((n,1))\n",
    "print(\"initial theta:\\n\",theta)\n",
    "print(\"initial theta shape:\", theta.shape)"
   ]
  },
  {
   "cell_type": "code",
   "execution_count": 17,
   "metadata": {},
   "outputs": [],
   "source": [
    "finalTheta = opt.fmin_tnc(func = computeCost, x0 = theta.flatten(), fprime = gradient, args = (X, y.flatten()))[0]"
   ]
  },
  {
   "cell_type": "code",
   "execution_count": 18,
   "metadata": {},
   "outputs": [],
   "source": [
    "J = computeCost(finalTheta[:,np.newaxis], X, y)"
   ]
  },
  {
   "cell_type": "code",
   "execution_count": 19,
   "metadata": {},
   "outputs": [
    {
     "data": {
      "text/plain": [
       "array([0.69314718])"
      ]
     },
     "execution_count": 19,
     "metadata": {},
     "output_type": "execute_result"
    }
   ],
   "source": [
    "J"
   ]
  },
  {
   "cell_type": "code",
   "execution_count": 33,
   "metadata": {},
   "outputs": [
    {
     "name": "stdout",
     "output_type": "stream",
     "text": [
      "[[-24. ]\n",
      " [  0.2]\n",
      " [  0.2]]\n"
     ]
    }
   ],
   "source": [
    "testTheta = np.array([[-24.0],[0.20],[0.20]])\n",
    "print(testTheta)"
   ]
  },
  {
   "cell_type": "code",
   "execution_count": 34,
   "metadata": {},
   "outputs": [],
   "source": [
    "grad = gradient(testTheta, X, y)"
   ]
  },
  {
   "cell_type": "code",
   "execution_count": 35,
   "metadata": {},
   "outputs": [
    {
     "data": {
      "text/plain": [
       "array([[ -0.24290299],\n",
       "       [-26.58466729],\n",
       "       [-25.17248178]])"
      ]
     },
     "execution_count": 35,
     "metadata": {},
     "output_type": "execute_result"
    }
   ],
   "source": [
    "grad"
   ]
  },
  {
   "cell_type": "code",
   "execution_count": 39,
   "metadata": {},
   "outputs": [
    {
     "data": {
      "text/plain": [
       "array([4.72715371])"
      ]
     },
     "execution_count": 39,
     "metadata": {},
     "output_type": "execute_result"
    }
   ],
   "source": [
    "computeCost(testTheta, X, y)"
   ]
  },
  {
   "cell_type": "code",
   "execution_count": 37,
   "metadata": {},
   "outputs": [
    {
     "data": {
      "text/plain": [
       "array([0.69314718])"
      ]
     },
     "execution_count": 37,
     "metadata": {},
     "output_type": "execute_result"
    }
   ],
   "source": [
    "computeCost(theta, X, y)"
   ]
  },
  {
   "cell_type": "code",
   "execution_count": 38,
   "metadata": {},
   "outputs": [
    {
     "data": {
      "text/plain": [
       "array([[ -0.1       ],\n",
       "       [-12.00921659],\n",
       "       [-11.26284221]])"
      ]
     },
     "execution_count": 38,
     "metadata": {},
     "output_type": "execute_result"
    }
   ],
   "source": [
    "gradient(theta, X, y)"
   ]
  }
 ],
 "metadata": {
  "kernelspec": {
   "display_name": "Python 3",
   "language": "python",
   "name": "python3"
  },
  "language_info": {
   "codemirror_mode": {
    "name": "ipython",
    "version": 3
   },
   "file_extension": ".py",
   "mimetype": "text/x-python",
   "name": "python",
   "nbconvert_exporter": "python",
   "pygments_lexer": "ipython3",
   "version": "3.6.2"
  }
 },
 "nbformat": 4,
 "nbformat_minor": 2
}
