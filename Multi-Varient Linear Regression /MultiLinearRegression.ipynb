{
 "cells": [
  {
   "cell_type": "code",
   "execution_count": 1,
   "metadata": {},
   "outputs": [],
   "source": [
    "import numpy as np\n",
    "import pandas as pd\n",
    "import matplotlib.pyplot as plt\n",
    "%matplotlib inline"
   ]
  },
  {
   "cell_type": "code",
   "execution_count": 2,
   "metadata": {},
   "outputs": [],
   "source": [
    "def normalize(X):\n",
    "    mean = np.mean(X, axis=0)\n",
    "    stdd = np.std(X,axis=0)\n",
    "    X = (X - mean) / stdd\n",
    "    return X"
   ]
  },
  {
   "cell_type": "code",
   "execution_count": 3,
   "metadata": {},
   "outputs": [],
   "source": [
    "def computeCost(X, y, theta): \n",
    "    m = X.shape[0]\n",
    "    h = np.dot(X,theta)\n",
    "    J = np.power(h-y,2)\n",
    "    J = np.sum(J, axis=0)\n",
    "    J = J / (2*m)\n",
    "    print(\"J: \\n\",J)\n",
    "    return J,h"
   ]
  },
  {
   "cell_type": "code",
   "execution_count": 4,
   "metadata": {},
   "outputs": [],
   "source": [
    "def gradientDescent(X ,y, theta, alpha):\n",
    "    J,h = computeCost(X, y, theta)\n",
    "    m = X.shape[0]\n",
    "    d = h-y\n",
    "    t = np.dot(X.T,d)\n",
    "    t = (alpha * t) / m\n",
    "    theta = theta - t\n",
    "    return theta, J"
   ]
  },
  {
   "cell_type": "code",
   "execution_count": 5,
   "metadata": {},
   "outputs": [],
   "source": [
    "def train(X ,y, theta, alpha, maxIter):\n",
    "    for i in range(maxIter):\n",
    "        theta, J = gradientDescent(X, y, theta, alpha)\n",
    "    return theta"
   ]
  },
  {
   "cell_type": "code",
   "execution_count": 6,
   "metadata": {},
   "outputs": [],
   "source": [
    "def predict():\n",
    "    pass"
   ]
  },
  {
   "cell_type": "code",
   "execution_count": 7,
   "metadata": {},
   "outputs": [],
   "source": [
    "data = pd.read_csv('data/train.txt', header = None)"
   ]
  },
  {
   "cell_type": "code",
   "execution_count": 8,
   "metadata": {},
   "outputs": [
    {
     "data": {
      "text/html": [
       "<div>\n",
       "<style scoped>\n",
       "    .dataframe tbody tr th:only-of-type {\n",
       "        vertical-align: middle;\n",
       "    }\n",
       "\n",
       "    .dataframe tbody tr th {\n",
       "        vertical-align: top;\n",
       "    }\n",
       "\n",
       "    .dataframe thead th {\n",
       "        text-align: right;\n",
       "    }\n",
       "</style>\n",
       "<table border=\"1\" class=\"dataframe\">\n",
       "  <thead>\n",
       "    <tr style=\"text-align: right;\">\n",
       "      <th></th>\n",
       "      <th>0</th>\n",
       "      <th>1</th>\n",
       "      <th>2</th>\n",
       "    </tr>\n",
       "  </thead>\n",
       "  <tbody>\n",
       "    <tr>\n",
       "      <th>0</th>\n",
       "      <td>2104</td>\n",
       "      <td>3</td>\n",
       "      <td>399900</td>\n",
       "    </tr>\n",
       "    <tr>\n",
       "      <th>1</th>\n",
       "      <td>1600</td>\n",
       "      <td>3</td>\n",
       "      <td>329900</td>\n",
       "    </tr>\n",
       "    <tr>\n",
       "      <th>2</th>\n",
       "      <td>2400</td>\n",
       "      <td>3</td>\n",
       "      <td>369000</td>\n",
       "    </tr>\n",
       "    <tr>\n",
       "      <th>3</th>\n",
       "      <td>1416</td>\n",
       "      <td>2</td>\n",
       "      <td>232000</td>\n",
       "    </tr>\n",
       "    <tr>\n",
       "      <th>4</th>\n",
       "      <td>3000</td>\n",
       "      <td>4</td>\n",
       "      <td>539900</td>\n",
       "    </tr>\n",
       "  </tbody>\n",
       "</table>\n",
       "</div>"
      ],
      "text/plain": [
       "      0  1       2\n",
       "0  2104  3  399900\n",
       "1  1600  3  329900\n",
       "2  2400  3  369000\n",
       "3  1416  2  232000\n",
       "4  3000  4  539900"
      ]
     },
     "execution_count": 8,
     "metadata": {},
     "output_type": "execute_result"
    }
   ],
   "source": [
    "data.head()"
   ]
  },
  {
   "cell_type": "code",
   "execution_count": 9,
   "metadata": {},
   "outputs": [
    {
     "data": {
      "text/plain": [
       "(47, 2)"
      ]
     },
     "execution_count": 9,
     "metadata": {},
     "output_type": "execute_result"
    }
   ],
   "source": [
    "X = data.iloc[:,0:2]\n",
    "X.shape"
   ]
  },
  {
   "cell_type": "code",
   "execution_count": 10,
   "metadata": {},
   "outputs": [
    {
     "data": {
      "text/plain": [
       "(47, 1)"
      ]
     },
     "execution_count": 10,
     "metadata": {},
     "output_type": "execute_result"
    }
   ],
   "source": [
    "y = data.iloc[:,2:3]\n",
    "y.shape"
   ]
  },
  {
   "cell_type": "code",
   "execution_count": 11,
   "metadata": {},
   "outputs": [
    {
     "name": "stdout",
     "output_type": "stream",
     "text": [
      "X shape: (47, 3)\n",
      "y shape: (47, 1)\n"
     ]
    }
   ],
   "source": [
    "m = X.shape[0]\n",
    "X = np.array(X)\n",
    "y = np.array(y)\n",
    "X = normalize(X)\n",
    "X = np.hstack((np.ones((m,1)),X))\n",
    "print(\"X shape:\",X.shape)\n",
    "print(\"y shape:\",y.shape)"
   ]
  },
  {
   "cell_type": "code",
   "execution_count": 12,
   "metadata": {},
   "outputs": [
    {
     "data": {
      "text/plain": [
       "array([[ 1.00000000e+00,  1.31415422e-01, -2.26093368e-01],\n",
       "       [ 1.00000000e+00, -5.09640698e-01, -2.26093368e-01],\n",
       "       [ 1.00000000e+00,  5.07908699e-01, -2.26093368e-01],\n",
       "       [ 1.00000000e+00, -7.43677059e-01, -1.55439190e+00],\n",
       "       [ 1.00000000e+00,  1.27107075e+00,  1.10220517e+00],\n",
       "       [ 1.00000000e+00, -1.99450507e-02,  1.10220517e+00],\n",
       "       [ 1.00000000e+00, -5.93588523e-01, -2.26093368e-01],\n",
       "       [ 1.00000000e+00, -7.29685755e-01, -2.26093368e-01],\n",
       "       [ 1.00000000e+00, -7.89466782e-01, -2.26093368e-01],\n",
       "       [ 1.00000000e+00, -6.44465993e-01, -2.26093368e-01],\n",
       "       [ 1.00000000e+00, -7.71822042e-02,  1.10220517e+00],\n",
       "       [ 1.00000000e+00, -8.65999486e-04, -2.26093368e-01],\n",
       "       [ 1.00000000e+00, -1.40779041e-01, -2.26093368e-01],\n",
       "       [ 1.00000000e+00,  3.15099326e+00,  2.43050370e+00],\n",
       "       [ 1.00000000e+00, -9.31923697e-01, -2.26093368e-01],\n",
       "       [ 1.00000000e+00,  3.80715024e-01,  1.10220517e+00],\n",
       "       [ 1.00000000e+00, -8.65782986e-01, -1.55439190e+00],\n",
       "       [ 1.00000000e+00, -9.72625673e-01, -2.26093368e-01],\n",
       "       [ 1.00000000e+00,  7.73743478e-01,  1.10220517e+00],\n",
       "       [ 1.00000000e+00,  1.31050078e+00,  1.10220517e+00],\n",
       "       [ 1.00000000e+00, -2.97227261e-01, -2.26093368e-01],\n",
       "       [ 1.00000000e+00, -1.43322915e-01, -1.55439190e+00],\n",
       "       [ 1.00000000e+00, -5.04552951e-01, -2.26093368e-01],\n",
       "       [ 1.00000000e+00, -4.91995958e-02,  1.10220517e+00],\n",
       "       [ 1.00000000e+00,  2.40309445e+00, -2.26093368e-01],\n",
       "       [ 1.00000000e+00, -1.14560907e+00, -2.26093368e-01],\n",
       "       [ 1.00000000e+00, -6.90255715e-01, -2.26093368e-01],\n",
       "       [ 1.00000000e+00,  6.68172729e-01, -2.26093368e-01],\n",
       "       [ 1.00000000e+00,  2.53521350e-01, -2.26093368e-01],\n",
       "       [ 1.00000000e+00,  8.09357707e-01, -2.26093368e-01],\n",
       "       [ 1.00000000e+00, -2.05647815e-01, -1.55439190e+00],\n",
       "       [ 1.00000000e+00, -1.27280274e+00, -2.88269044e+00],\n",
       "       [ 1.00000000e+00,  5.00114703e-02,  1.10220517e+00],\n",
       "       [ 1.00000000e+00,  1.44532608e+00, -2.26093368e-01],\n",
       "       [ 1.00000000e+00, -2.41262044e-01,  1.10220517e+00],\n",
       "       [ 1.00000000e+00, -7.16966387e-01, -2.26093368e-01],\n",
       "       [ 1.00000000e+00, -9.68809863e-01, -2.26093368e-01],\n",
       "       [ 1.00000000e+00,  1.67029651e-01,  1.10220517e+00],\n",
       "       [ 1.00000000e+00,  2.81647389e+00,  1.10220517e+00],\n",
       "       [ 1.00000000e+00,  2.05187753e-01,  1.10220517e+00],\n",
       "       [ 1.00000000e+00, -4.28236746e-01, -1.55439190e+00],\n",
       "       [ 1.00000000e+00,  3.01854946e-01, -2.26093368e-01],\n",
       "       [ 1.00000000e+00,  7.20322135e-01,  1.10220517e+00],\n",
       "       [ 1.00000000e+00, -1.01841540e+00, -2.26093368e-01],\n",
       "       [ 1.00000000e+00, -1.46104938e+00, -1.55439190e+00],\n",
       "       [ 1.00000000e+00, -1.89112638e-01,  1.10220517e+00],\n",
       "       [ 1.00000000e+00, -1.01459959e+00, -2.26093368e-01]])"
      ]
     },
     "execution_count": 12,
     "metadata": {},
     "output_type": "execute_result"
    }
   ],
   "source": [
    "X"
   ]
  },
  {
   "cell_type": "code",
   "execution_count": 13,
   "metadata": {},
   "outputs": [
    {
     "name": "stdout",
     "output_type": "stream",
     "text": [
      "initial theta:\n",
      " [[0.]\n",
      " [0.]\n",
      " [0.]]\n",
      "initial theta shape: (3, 1)\n"
     ]
    }
   ],
   "source": [
    "n = X.shape[1]\n",
    "initialTheta = np.zeros((n,1))\n",
    "print(\"initial theta:\\n\",initialTheta)\n",
    "print(\"initial theta shape:\",initialTheta.shape)"
   ]
  },
  {
   "cell_type": "markdown",
   "metadata": {},
   "source": [
    "# Training"
   ]
  },
  {
   "cell_type": "code",
   "execution_count": 14,
   "metadata": {},
   "outputs": [
    {
     "name": "stdout",
     "output_type": "stream",
     "text": [
      "J: \n",
      " [6.55915481e+10]\n",
      "J: \n",
      " [5.32682599e+10]\n",
      "J: \n",
      " [4.33890843e+10]\n",
      "J: \n",
      " [3.54574304e+10]\n",
      "J: \n",
      " [2.90805547e+10]\n",
      "J: \n",
      " [2.39470789e+10]\n",
      "J: \n",
      " [1.9809573e+10]\n",
      "J: \n",
      " [1.64710108e+10]\n",
      "J: \n",
      " [1.37742034e+10]\n",
      "J: \n",
      " [1.15935242e+10]\n",
      "J: \n",
      " [9.82841238e+09]\n",
      "J: \n",
      " [8.398254e+09]\n",
      "J: \n",
      " [7.23834012e+09]\n",
      "J: \n",
      " [6.29666589e+09]\n",
      "J: \n",
      " [5.53139023e+09]\n",
      "J: \n",
      " [4.90881531e+09]\n",
      "J: \n",
      " [4.4017763e+09]\n",
      "J: \n",
      " [3.98835592e+09]\n",
      "J: \n",
      " [3.65085642e+09]\n",
      "J: \n",
      " [3.37497638e+09]\n",
      "J: \n",
      " [3.14915057e+09]\n",
      "J: \n",
      " [2.96401994e+09]\n",
      "J: \n",
      " [2.81200564e+09]\n",
      "J: \n",
      " [2.68696628e+09]\n",
      "J: \n",
      " [2.583922e+09]\n",
      "J: \n",
      " [2.49883199e+09]\n",
      "J: \n",
      " [2.42841517e+09]\n",
      "J: \n",
      " [2.37000541e+09]\n",
      "J: \n",
      " [2.32143461e+09]\n",
      "J: \n",
      " [2.28093826e+09]\n",
      "J: \n",
      " [2.24707909e+09]\n",
      "J: \n",
      " [2.21868527e+09]\n",
      "J: \n",
      " [2.19480043e+09]\n",
      "J: \n",
      " [2.17464323e+09]\n",
      "J: \n",
      " [2.15757453e+09]\n",
      "J: \n",
      " [2.14307089e+09]\n",
      "J: \n",
      " [2.13070296e+09]\n",
      "J: \n",
      " [2.12011811e+09]\n",
      "J: \n",
      " [2.11102617e+09]\n",
      "J: \n",
      " [2.10318797e+09]\n",
      "J: \n",
      " [2.09640599e+09]\n",
      "J: \n",
      " [2.09051677e+09]\n",
      "J: \n",
      " [2.0853847e+09]\n",
      "J: \n",
      " [2.08089704e+09]\n",
      "J: \n",
      " [2.07695979e+09]\n",
      "J: \n",
      " [2.07349437e+09]\n",
      "J: \n",
      " [2.0704349e+09]\n",
      "J: \n",
      " [2.06772597e+09]\n",
      "J: \n",
      " [2.06532084e+09]\n",
      "J: \n",
      " [2.06317993e+09]\n"
     ]
    }
   ],
   "source": [
    "alpha = 0.1\n",
    "maxIter = 50\n",
    "finalTheta = train(X, y, initialTheta, alpha, maxIter)"
   ]
  },
  {
   "cell_type": "code",
   "execution_count": 15,
   "metadata": {},
   "outputs": [
    {
     "data": {
      "text/plain": [
       "array([[338658.2492493 ],\n",
       "       [103322.82942954],\n",
       "       [  -474.74249522]])"
      ]
     },
     "execution_count": 15,
     "metadata": {},
     "output_type": "execute_result"
    }
   ],
   "source": [
    "finalTheta"
   ]
  }
 ],
 "metadata": {
  "kernelspec": {
   "display_name": "Python 3",
   "language": "python",
   "name": "python3"
  },
  "language_info": {
   "codemirror_mode": {
    "name": "ipython",
    "version": 3
   },
   "file_extension": ".py",
   "mimetype": "text/x-python",
   "name": "python",
   "nbconvert_exporter": "python",
   "pygments_lexer": "ipython3",
   "version": "3.6.2"
  }
 },
 "nbformat": 4,
 "nbformat_minor": 2
}
